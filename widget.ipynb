{
 "cells": [
  {
   "cell_type": "markdown",
   "source": [
    "# Travel Cost Calculator - Interactive Widget\n",
    "\n",
    "This model shows calculations for travel cost, with varying days working from home, Rotterdam and Amsterdam.\n",
    "Use of **ipywidgets** sliders to interactively set the number of days per week you work in:\n",
    "- Amsterdam\n",
    "- Rotterdam\n",
    "- Home"
   ],
   "metadata": {
    "collapsed": false
   }
  },
  {
   "cell_type": "code",
   "execution_count": 8,
   "outputs": [],
   "source": [
    "from functions import bereken_weekkosten, bereken_maandkosten"
   ],
   "metadata": {
    "collapsed": false,
    "ExecuteTime": {
     "end_time": "2025-01-15T09:12:00.116453700Z",
     "start_time": "2025-01-15T09:12:00.100809200Z"
    }
   }
  },
  {
   "cell_type": "code",
   "execution_count": 9,
   "outputs": [
    {
     "name": "stdout",
     "output_type": "stream",
     "text": [
      "You live in Den Haag\n",
      "One-way cost to Amsterdam: € 16.21\n",
      "One-way cost to Rotterdam: € 6.0\n"
     ]
    }
   ],
   "source": [
    "# Set your home city and define the travel costs\n",
    "# Example: Den Haag\n",
    "\n",
    "woonplaats = \"Den Haag\"\n",
    "prijs_naar_amsterdam = 16.21\n",
    "prijs_naar_rotterdam = 6.00\n",
    "\n",
    "print(f\"You live in {woonplaats}\")\n",
    "print(f\"One-way cost to Amsterdam: € {prijs_naar_amsterdam}\")\n",
    "print(f\"One-way cost to Rotterdam: € {prijs_naar_rotterdam}\")\n"
   ],
   "metadata": {
    "collapsed": false,
    "ExecuteTime": {
     "end_time": "2025-01-15T09:12:00.300426200Z",
     "start_time": "2025-01-15T09:12:00.284830400Z"
    }
   }
  },
  {
   "cell_type": "code",
   "execution_count": 10,
   "outputs": [
    {
     "data": {
      "text/plain": "HBox(children=(IntSlider(value=3, description='Days AMS', max=5), IntSlider(value=2, description='Days Rdam', …",
      "application/vnd.jupyter.widget-view+json": {
       "version_major": 2,
       "version_minor": 0,
       "model_id": "1fedf7d514cc46849fdea2bfefd54311"
      }
     },
     "metadata": {},
     "output_type": "display_data"
    },
    {
     "data": {
      "text/plain": "Output()",
      "application/vnd.jupyter.widget-view+json": {
       "version_major": 2,
       "version_minor": 0,
       "model_id": "36f78a9d65ab42cab1bb5c1e18de2fe9"
      }
     },
     "metadata": {},
     "output_type": "display_data"
    }
   ],
   "source": [
    "import ipywidgets as widgets\n",
    "from IPython.display import display\n",
    "\n",
    "def update_kosten(dagen_amsterdam, dagen_rotterdam):\n",
    "    \"\"\"\n",
    "    Update the cost calculations when sliders change.\n",
    "    5 workdays per week.\n",
    "    \"\"\"\n",
    "    dagen_thuis = 5 - (dagen_amsterdam + dagen_rotterdam)\n",
    "\n",
    "    if dagen_thuis < 0:\n",
    "        print(\"Error: The total number of days exceeds 5!\")\n",
    "        return\n",
    "\n",
    "    # Weekly and Monthly cost\n",
    "    week_cost = bereken_weekkosten(\n",
    "        dagen_amsterdam,\n",
    "        dagen_rotterdam,\n",
    "        dagen_thuis,\n",
    "        prijs_naar_amsterdam,\n",
    "        prijs_naar_rotterdam\n",
    "    )\n",
    "\n",
    "    month_cost = bereken_maandkosten(\n",
    "        dagen_amsterdam,\n",
    "        dagen_rotterdam,\n",
    "        dagen_thuis,\n",
    "        prijs_naar_amsterdam,\n",
    "        prijs_naar_rotterdam,\n",
    "        weken_per_maand=4\n",
    "    )\n",
    "\n",
    "    print(f\"Days in Amsterdam : {dagen_amsterdam}\")\n",
    "    print(f\"Days in Rotterdam : {dagen_rotterdam}\")\n",
    "    print(f\"Days from home    : {dagen_thuis}\")\n",
    "    print(f\"Weekly cost       : € {week_cost:.2f}\")\n",
    "    print(f\"Monthly cost      : € {month_cost:.2f}\")\n",
    "    print('-' * 50)\n",
    "\n",
    "# Sliders (AMS and R'dam). The rest up to 5 is home.\n",
    "slider_ams = widgets.IntSlider(\n",
    "    value=3,\n",
    "    min=0,\n",
    "    max=5,\n",
    "    step=1,\n",
    "    description='Days AMS'\n",
    ")\n",
    "\n",
    "slider_rdam = widgets.IntSlider(\n",
    "    value=2,\n",
    "    min=0,\n",
    "    max=5,\n",
    "    step=1,\n",
    "    description='Days Rdam'\n",
    ")\n",
    "\n",
    "ui = widgets.HBox([slider_ams, slider_rdam])\n",
    "\n",
    "output = widgets.interactive_output(\n",
    "    update_kosten,\n",
    "    {\n",
    "        'dagen_amsterdam': slider_ams,\n",
    "        'dagen_rotterdam': slider_rdam\n",
    "    }\n",
    ")\n",
    "\n",
    "display(ui, output)"
   ],
   "metadata": {
    "collapsed": false,
    "ExecuteTime": {
     "end_time": "2025-01-15T09:12:00.508737200Z",
     "start_time": "2025-01-15T09:12:00.480593Z"
    }
   }
  },
  {
   "cell_type": "markdown",
   "source": [
    "## Cost for traject abbonement\n",
    "\n",
    "| **Traject**          | **Monthly Cost** |\n",
    "|----------------------|-----------------:|\n",
    "| Den Haag → Amsterdam |         € 308,17 |\n",
    "| Den Haag → Rotterdam |         € 131,74 |\n",
    "| **Traject totaal**   |     **€ 439,91** |\n",
    "| **Trein Vrij**       |     **€ 344,68** |"
   ],
   "metadata": {
    "collapsed": false
   }
  }
 ],
 "metadata": {
  "kernelspec": {
   "display_name": "Python 3",
   "language": "python",
   "name": "python3"
  },
  "language_info": {
   "codemirror_mode": {
    "name": "ipython",
    "version": 2
   },
   "file_extension": ".py",
   "mimetype": "text/x-python",
   "name": "python",
   "nbconvert_exporter": "python",
   "pygments_lexer": "ipython2",
   "version": "2.7.6"
  }
 },
 "nbformat": 4,
 "nbformat_minor": 0
}
